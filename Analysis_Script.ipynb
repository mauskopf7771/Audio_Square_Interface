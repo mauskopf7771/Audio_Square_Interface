{
 "cells": [
  {
   "cell_type": "code",
   "execution_count": null,
   "id": "059c10ba",
   "metadata": {},
   "outputs": [],
   "source": [
    "#Jack's Coordinate Converter\n",
    "#\n",
    "#    Imports data\n",
    "#    Classifies coordinates by colour <- This will be the easier one to do\n",
    "#    Classifies coordingates by number"
   ]
  },
  {
   "cell_type": "code",
   "execution_count": 182,
   "id": "df0e8f6f",
   "metadata": {},
   "outputs": [],
   "source": [
    "# Import Python Libraries\n",
    "import os\n",
    "import pandas as pd\n",
    "import numpy as np\n",
    "import matplotlib.pyplot as plt\n",
    "from matplotlib.ticker import ScalarFormatter\n",
    "import seaborn as sns"
   ]
  },
  {
   "cell_type": "code",
   "execution_count": null,
   "id": "13e8158d",
   "metadata": {},
   "outputs": [],
   "source": [
    "# Useful notes\n",
    "# Stimuli is placed by centre\n",
    "# Y coordinates to colour\n",
    "#     Blue = 0.25 to 0.15\n",
    "#     Red = 0.1 to 0\n",
    "#     White = -0.05 to -0.15\n",
    "#     Green = -0.2 to -0.3\n",
    "blue = {0.15, 0.25}\n",
    "red = {0, 0.1}\n",
    "white = {-0.15, -0.05}\n",
    "\n",
    "test_data = np.array([0.2, 0.17, 0.05, -0.1, 0.3])\n",
    "\n",
    "if test_data is in range(blue)"
   ]
  },
  {
   "cell_type": "code",
   "execution_count": 183,
   "id": "5d2f1cd0",
   "metadata": {},
   "outputs": [
    {
     "data": {
      "text/plain": [
       "'/Users/jackcrosby/Desktop/Jack_PsychoPy'"
      ]
     },
     "execution_count": 183,
     "metadata": {},
     "output_type": "execute_result"
    }
   ],
   "source": [
    "#Get current dir\n",
    "os.getcwd()"
   ]
  },
  {
   "cell_type": "code",
   "execution_count": 184,
   "id": "bf629a9a",
   "metadata": {},
   "outputs": [
    {
     "data": {
      "text/html": [
       "<div>\n",
       "<style scoped>\n",
       "    .dataframe tbody tr th:only-of-type {\n",
       "        vertical-align: middle;\n",
       "    }\n",
       "\n",
       "    .dataframe tbody tr th {\n",
       "        vertical-align: top;\n",
       "    }\n",
       "\n",
       "    .dataframe thead th {\n",
       "        text-align: right;\n",
       "    }\n",
       "</style>\n",
       "<table border=\"1\" class=\"dataframe\">\n",
       "  <thead>\n",
       "    <tr style=\"text-align: right;\">\n",
       "      <th></th>\n",
       "      <th>trials.thisRepN</th>\n",
       "      <th>trials.thisTrialN</th>\n",
       "      <th>trials.thisN</th>\n",
       "      <th>trials.thisIndex</th>\n",
       "      <th>Green_1.started</th>\n",
       "      <th>Green_1.stopped</th>\n",
       "      <th>mouse.x</th>\n",
       "      <th>mouse.y</th>\n",
       "      <th>mouse.leftButton</th>\n",
       "      <th>mouse.midButton</th>\n",
       "      <th>...</th>\n",
       "      <th>mouse_2_Ignore.leftButton</th>\n",
       "      <th>mouse_2_Ignore.midButton</th>\n",
       "      <th>mouse_2_Ignore.rightButton</th>\n",
       "      <th>participant</th>\n",
       "      <th>session</th>\n",
       "      <th>date</th>\n",
       "      <th>expName</th>\n",
       "      <th>psychopyVersion</th>\n",
       "      <th>frameRate</th>\n",
       "      <th>Unnamed: 106</th>\n",
       "    </tr>\n",
       "  </thead>\n",
       "  <tbody>\n",
       "    <tr>\n",
       "      <th>0</th>\n",
       "      <td>0</td>\n",
       "      <td>0</td>\n",
       "      <td>0</td>\n",
       "      <td>0</td>\n",
       "      <td>8.875547</td>\n",
       "      <td>None</td>\n",
       "      <td>0.006110</td>\n",
       "      <td>0.060081</td>\n",
       "      <td>1</td>\n",
       "      <td>0</td>\n",
       "      <td>...</td>\n",
       "      <td>1</td>\n",
       "      <td>0</td>\n",
       "      <td>0</td>\n",
       "      <td>NaN</td>\n",
       "      <td>1</td>\n",
       "      <td>2022_Feb_03_1202</td>\n",
       "      <td>Jack_PsychoPy</td>\n",
       "      <td>2021.2.3</td>\n",
       "      <td>None</td>\n",
       "      <td>NaN</td>\n",
       "    </tr>\n",
       "    <tr>\n",
       "      <th>1</th>\n",
       "      <td>1</td>\n",
       "      <td>0</td>\n",
       "      <td>1</td>\n",
       "      <td>0</td>\n",
       "      <td>13.682190</td>\n",
       "      <td>None</td>\n",
       "      <td>-0.015275</td>\n",
       "      <td>0.038697</td>\n",
       "      <td>1</td>\n",
       "      <td>0</td>\n",
       "      <td>...</td>\n",
       "      <td>1</td>\n",
       "      <td>0</td>\n",
       "      <td>0</td>\n",
       "      <td>NaN</td>\n",
       "      <td>1</td>\n",
       "      <td>2022_Feb_03_1202</td>\n",
       "      <td>Jack_PsychoPy</td>\n",
       "      <td>2021.2.3</td>\n",
       "      <td>None</td>\n",
       "      <td>NaN</td>\n",
       "    </tr>\n",
       "    <tr>\n",
       "      <th>2</th>\n",
       "      <td>2</td>\n",
       "      <td>0</td>\n",
       "      <td>2</td>\n",
       "      <td>0</td>\n",
       "      <td>18.762726</td>\n",
       "      <td>None</td>\n",
       "      <td>0.152749</td>\n",
       "      <td>-0.094705</td>\n",
       "      <td>1</td>\n",
       "      <td>0</td>\n",
       "      <td>...</td>\n",
       "      <td>1</td>\n",
       "      <td>0</td>\n",
       "      <td>0</td>\n",
       "      <td>NaN</td>\n",
       "      <td>1</td>\n",
       "      <td>2022_Feb_03_1202</td>\n",
       "      <td>Jack_PsychoPy</td>\n",
       "      <td>2021.2.3</td>\n",
       "      <td>None</td>\n",
       "      <td>NaN</td>\n",
       "    </tr>\n",
       "    <tr>\n",
       "      <th>3</th>\n",
       "      <td>3</td>\n",
       "      <td>0</td>\n",
       "      <td>3</td>\n",
       "      <td>0</td>\n",
       "      <td>22.232663</td>\n",
       "      <td>None</td>\n",
       "      <td>0.139511</td>\n",
       "      <td>-0.211813</td>\n",
       "      <td>1</td>\n",
       "      <td>0</td>\n",
       "      <td>...</td>\n",
       "      <td>1</td>\n",
       "      <td>0</td>\n",
       "      <td>0</td>\n",
       "      <td>NaN</td>\n",
       "      <td>1</td>\n",
       "      <td>2022_Feb_03_1202</td>\n",
       "      <td>Jack_PsychoPy</td>\n",
       "      <td>2021.2.3</td>\n",
       "      <td>None</td>\n",
       "      <td>NaN</td>\n",
       "    </tr>\n",
       "    <tr>\n",
       "      <th>4</th>\n",
       "      <td>4</td>\n",
       "      <td>0</td>\n",
       "      <td>4</td>\n",
       "      <td>0</td>\n",
       "      <td>25.010874</td>\n",
       "      <td>None</td>\n",
       "      <td>0.443992</td>\n",
       "      <td>-0.247454</td>\n",
       "      <td>1</td>\n",
       "      <td>0</td>\n",
       "      <td>...</td>\n",
       "      <td>1</td>\n",
       "      <td>0</td>\n",
       "      <td>0</td>\n",
       "      <td>NaN</td>\n",
       "      <td>1</td>\n",
       "      <td>2022_Feb_03_1202</td>\n",
       "      <td>Jack_PsychoPy</td>\n",
       "      <td>2021.2.3</td>\n",
       "      <td>None</td>\n",
       "      <td>NaN</td>\n",
       "    </tr>\n",
       "  </tbody>\n",
       "</table>\n",
       "<p>5 rows × 107 columns</p>\n",
       "</div>"
      ],
      "text/plain": [
       "   trials.thisRepN  trials.thisTrialN  trials.thisN  trials.thisIndex  \\\n",
       "0                0                  0             0                 0   \n",
       "1                1                  0             1                 0   \n",
       "2                2                  0             2                 0   \n",
       "3                3                  0             3                 0   \n",
       "4                4                  0             4                 0   \n",
       "\n",
       "   Green_1.started Green_1.stopped   mouse.x   mouse.y  mouse.leftButton  \\\n",
       "0         8.875547            None  0.006110  0.060081                 1   \n",
       "1        13.682190            None -0.015275  0.038697                 1   \n",
       "2        18.762726            None  0.152749 -0.094705                 1   \n",
       "3        22.232663            None  0.139511 -0.211813                 1   \n",
       "4        25.010874            None  0.443992 -0.247454                 1   \n",
       "\n",
       "   mouse.midButton  ...  mouse_2_Ignore.leftButton  mouse_2_Ignore.midButton  \\\n",
       "0                0  ...                          1                         0   \n",
       "1                0  ...                          1                         0   \n",
       "2                0  ...                          1                         0   \n",
       "3                0  ...                          1                         0   \n",
       "4                0  ...                          1                         0   \n",
       "\n",
       "   mouse_2_Ignore.rightButton participant  session              date  \\\n",
       "0                           0         NaN        1  2022_Feb_03_1202   \n",
       "1                           0         NaN        1  2022_Feb_03_1202   \n",
       "2                           0         NaN        1  2022_Feb_03_1202   \n",
       "3                           0         NaN        1  2022_Feb_03_1202   \n",
       "4                           0         NaN        1  2022_Feb_03_1202   \n",
       "\n",
       "         expName psychopyVersion frameRate  Unnamed: 106  \n",
       "0  Jack_PsychoPy        2021.2.3      None           NaN  \n",
       "1  Jack_PsychoPy        2021.2.3      None           NaN  \n",
       "2  Jack_PsychoPy        2021.2.3      None           NaN  \n",
       "3  Jack_PsychoPy        2021.2.3      None           NaN  \n",
       "4  Jack_PsychoPy        2021.2.3      None           NaN  \n",
       "\n",
       "[5 rows x 107 columns]"
      ]
     },
     "metadata": {},
     "output_type": "display_data"
    }
   ],
   "source": [
    "# Import Dataset\n",
    "df = pd.read_csv('/Users/jackcrosby/Desktop/Jack_PsychoPy/Data/_Jack_PsychoPy_2022_Feb_03_1202.csv')\n",
    "display(df)"
   ]
  },
  {
   "cell_type": "code",
   "execution_count": 185,
   "id": "4706061b",
   "metadata": {},
   "outputs": [
    {
     "data": {
      "text/html": [
       "<div>\n",
       "<style scoped>\n",
       "    .dataframe tbody tr th:only-of-type {\n",
       "        vertical-align: middle;\n",
       "    }\n",
       "\n",
       "    .dataframe tbody tr th {\n",
       "        vertical-align: top;\n",
       "    }\n",
       "\n",
       "    .dataframe thead th {\n",
       "        text-align: right;\n",
       "    }\n",
       "</style>\n",
       "<table border=\"1\" class=\"dataframe\">\n",
       "  <thead>\n",
       "    <tr style=\"text-align: right;\">\n",
       "      <th></th>\n",
       "      <th>mouse.x</th>\n",
       "      <th>mouse.y</th>\n",
       "    </tr>\n",
       "  </thead>\n",
       "  <tbody>\n",
       "    <tr>\n",
       "      <th>0</th>\n",
       "      <td>0.006110</td>\n",
       "      <td>0.060081</td>\n",
       "    </tr>\n",
       "    <tr>\n",
       "      <th>1</th>\n",
       "      <td>-0.015275</td>\n",
       "      <td>0.038697</td>\n",
       "    </tr>\n",
       "    <tr>\n",
       "      <th>2</th>\n",
       "      <td>0.152749</td>\n",
       "      <td>-0.094705</td>\n",
       "    </tr>\n",
       "    <tr>\n",
       "      <th>3</th>\n",
       "      <td>0.139511</td>\n",
       "      <td>-0.211813</td>\n",
       "    </tr>\n",
       "    <tr>\n",
       "      <th>4</th>\n",
       "      <td>0.443992</td>\n",
       "      <td>-0.247454</td>\n",
       "    </tr>\n",
       "  </tbody>\n",
       "</table>\n",
       "</div>"
      ],
      "text/plain": [
       "    mouse.x   mouse.y\n",
       "0  0.006110  0.060081\n",
       "1 -0.015275  0.038697\n",
       "2  0.152749 -0.094705\n",
       "3  0.139511 -0.211813\n",
       "4  0.443992 -0.247454"
      ]
     },
     "metadata": {},
     "output_type": "display_data"
    }
   ],
   "source": [
    "#Make df with all mouse clicks\n",
    "df2 = df[['mouse.x', 'mouse.y']]\n",
    "display(df2)"
   ]
  },
  {
   "cell_type": "code",
   "execution_count": 186,
   "id": "2d7e1bda",
   "metadata": {},
   "outputs": [
    {
     "data": {
      "text/plain": [
       "<matplotlib.collections.PathCollection at 0x7f84d01edb20>"
      ]
     },
     "execution_count": 186,
     "metadata": {},
     "output_type": "execute_result"
    },
    {
     "data": {
      "image/png": "[encoded data removed]",
      "text/plain": [
       "<Figure size 432x288 with 1 Axes>"
      ]
     },
     "metadata": {
      "needs_background": "light"
     },
     "output_type": "display_data"
    }
   ],
   "source": [
    "# Plot all the mouse clicks\n",
    "plt.scatter(df2[['mouse.x']], df2[['mouse.y']])"
   ]
  },
  {
   "cell_type": "code",
   "execution_count": 187,
   "id": "afc63496",
   "metadata": {},
   "outputs": [
    {
     "name": "stdout",
     "output_type": "stream",
     "text": [
      "0    0.060081\n",
      "1    0.038697\n",
      "2   -0.094705\n",
      "3   -0.211813\n",
      "4   -0.247454\n",
      "Name: mouse.y, dtype: float64\n"
     ]
    }
   ],
   "source": [
    "df3 = df2\n",
    "test = df3['mouse.y'].replace(['blue','red', 'white', 'green'],[[0.15, 0.25],[0,0.1],[-0.05,-0.15],[-0.2,-0.3]])\n",
    "print(test)"
   ]
  },
  {
   "cell_type": "code",
   "execution_count": 204,
   "id": "4e2f1946",
   "metadata": {},
   "outputs": [
    {
     "ename": "SyntaxError",
     "evalue": "invalid syntax (4067240150.py, line 4)",
     "output_type": "error",
     "traceback": [
      "\u001b[0;36m  File \u001b[0;32m\"/var/folders/wr/9s_983rd7219064h8l10ycz40000gn/T/ipykernel_2156/4067240150.py\"\u001b[0;36m, line \u001b[0;32m4\u001b[0m\n\u001b[0;31m    if df3['mouse.y'][i] > 0.15\u001b[0m\n\u001b[0m                               ^\u001b[0m\n\u001b[0;31mSyntaxError\u001b[0m\u001b[0;31m:\u001b[0m invalid syntax\n"
     ]
    }
   ],
   "source": [
    "df3['colour'] = ''\n",
    "\n",
    "for i in range (0, 4):\n",
    "    if df3['mouse.y'][i] > 0.15\n",
    "        df3['colour'] = 'blue'"
   ]
  },
  {
   "cell_type": "code",
   "execution_count": 201,
   "id": "b7cdd2d0",
   "metadata": {},
   "outputs": [
    {
     "data": {
      "text/plain": [
       "True"
      ]
     },
     "execution_count": 201,
     "metadata": {},
     "output_type": "execute_result"
    }
   ],
   "source": [
    "df3['mouse.y'][1] < 0.15"
   ]
  },
  {
   "cell_type": "code",
   "execution_count": 196,
   "id": "090de910",
   "metadata": {},
   "outputs": [
    {
     "ename": "KeyError",
     "evalue": "'colour'",
     "output_type": "error",
     "traceback": [
      "\u001b[0;31m---------------------------------------------------------------------------\u001b[0m",
      "\u001b[0;31mKeyError\u001b[0m                                  Traceback (most recent call last)",
      "\u001b[0;32m~/opt/anaconda3/lib/python3.9/site-packages/pandas/core/indexes/base.py\u001b[0m in \u001b[0;36mget_loc\u001b[0;34m(self, key, method, tolerance)\u001b[0m\n\u001b[1;32m   3360\u001b[0m             \u001b[0;32mtry\u001b[0m\u001b[0;34m:\u001b[0m\u001b[0;34m\u001b[0m\u001b[0;34m\u001b[0m\u001b[0m\n\u001b[0;32m-> 3361\u001b[0;31m                 \u001b[0;32mreturn\u001b[0m \u001b[0mself\u001b[0m\u001b[0;34m.\u001b[0m\u001b[0m_engine\u001b[0m\u001b[0;34m.\u001b[0m\u001b[0mget_loc\u001b[0m\u001b[0;34m(\u001b[0m\u001b[0mcasted_key\u001b[0m\u001b[0;34m)\u001b[0m\u001b[0;34m\u001b[0m\u001b[0;34m\u001b[0m\u001b[0m\n\u001b[0m\u001b[1;32m   3362\u001b[0m             \u001b[0;32mexcept\u001b[0m \u001b[0mKeyError\u001b[0m \u001b[0;32mas\u001b[0m \u001b[0merr\u001b[0m\u001b[0;34m:\u001b[0m\u001b[0;34m\u001b[0m\u001b[0;34m\u001b[0m\u001b[0m\n",
      "\u001b[0;32m~/opt/anaconda3/lib/python3.9/site-packages/pandas/_libs/index.pyx\u001b[0m in \u001b[0;36mpandas._libs.index.IndexEngine.get_loc\u001b[0;34m()\u001b[0m\n",
      "\u001b[0;32m~/opt/anaconda3/lib/python3.9/site-packages/pandas/_libs/index.pyx\u001b[0m in \u001b[0;36mpandas._libs.index.IndexEngine.get_loc\u001b[0;34m()\u001b[0m\n",
      "\u001b[0;32mpandas/_libs/hashtable_class_helper.pxi\u001b[0m in \u001b[0;36mpandas._libs.hashtable.PyObjectHashTable.get_item\u001b[0;34m()\u001b[0m\n",
      "\u001b[0;32mpandas/_libs/hashtable_class_helper.pxi\u001b[0m in \u001b[0;36mpandas._libs.hashtable.PyObjectHashTable.get_item\u001b[0;34m()\u001b[0m\n",
      "\u001b[0;31mKeyError\u001b[0m: 'colour'",
      "\nThe above exception was the direct cause of the following exception:\n",
      "\u001b[0;31mKeyError\u001b[0m                                  Traceback (most recent call last)",
      "\u001b[0;32m/var/folders/wr/9s_983rd7219064h8l10ycz40000gn/T/ipykernel_2156/2975866167.py\u001b[0m in \u001b[0;36m<module>\u001b[0;34m\u001b[0m\n\u001b[0;32m----> 1\u001b[0;31m \u001b[0mdf3\u001b[0m\u001b[0;34m[\u001b[0m\u001b[0;34m'colour'\u001b[0m\u001b[0;34m]\u001b[0m\u001b[0;34m\u001b[0m\u001b[0;34m\u001b[0m\u001b[0m\n\u001b[0m",
      "\u001b[0;32m~/opt/anaconda3/lib/python3.9/site-packages/pandas/core/frame.py\u001b[0m in \u001b[0;36m__getitem__\u001b[0;34m(self, key)\u001b[0m\n\u001b[1;32m   3456\u001b[0m             \u001b[0;32mif\u001b[0m \u001b[0mself\u001b[0m\u001b[0;34m.\u001b[0m\u001b[0mcolumns\u001b[0m\u001b[0;34m.\u001b[0m\u001b[0mnlevels\u001b[0m \u001b[0;34m>\u001b[0m \u001b[0;36m1\u001b[0m\u001b[0;34m:\u001b[0m\u001b[0;34m\u001b[0m\u001b[0;34m\u001b[0m\u001b[0m\n\u001b[1;32m   3457\u001b[0m                 \u001b[0;32mreturn\u001b[0m \u001b[0mself\u001b[0m\u001b[0;34m.\u001b[0m\u001b[0m_getitem_multilevel\u001b[0m\u001b[0;34m(\u001b[0m\u001b[0mkey\u001b[0m\u001b[0;34m)\u001b[0m\u001b[0;34m\u001b[0m\u001b[0;34m\u001b[0m\u001b[0m\n\u001b[0;32m-> 3458\u001b[0;31m             \u001b[0mindexer\u001b[0m \u001b[0;34m=\u001b[0m \u001b[0mself\u001b[0m\u001b[0;34m.\u001b[0m\u001b[0mcolumns\u001b[0m\u001b[0;34m.\u001b[0m\u001b[0mget_loc\u001b[0m\u001b[0;34m(\u001b[0m\u001b[0mkey\u001b[0m\u001b[0;34m)\u001b[0m\u001b[0;34m\u001b[0m\u001b[0;34m\u001b[0m\u001b[0m\n\u001b[0m\u001b[1;32m   3459\u001b[0m             \u001b[0;32mif\u001b[0m \u001b[0mis_integer\u001b[0m\u001b[0;34m(\u001b[0m\u001b[0mindexer\u001b[0m\u001b[0;34m)\u001b[0m\u001b[0;34m:\u001b[0m\u001b[0;34m\u001b[0m\u001b[0;34m\u001b[0m\u001b[0m\n\u001b[1;32m   3460\u001b[0m                 \u001b[0mindexer\u001b[0m \u001b[0;34m=\u001b[0m \u001b[0;34m[\u001b[0m\u001b[0mindexer\u001b[0m\u001b[0;34m]\u001b[0m\u001b[0;34m\u001b[0m\u001b[0;34m\u001b[0m\u001b[0m\n",
      "\u001b[0;32m~/opt/anaconda3/lib/python3.9/site-packages/pandas/core/indexes/base.py\u001b[0m in \u001b[0;36mget_loc\u001b[0;34m(self, key, method, tolerance)\u001b[0m\n\u001b[1;32m   3361\u001b[0m                 \u001b[0;32mreturn\u001b[0m \u001b[0mself\u001b[0m\u001b[0;34m.\u001b[0m\u001b[0m_engine\u001b[0m\u001b[0;34m.\u001b[0m\u001b[0mget_loc\u001b[0m\u001b[0;34m(\u001b[0m\u001b[0mcasted_key\u001b[0m\u001b[0;34m)\u001b[0m\u001b[0;34m\u001b[0m\u001b[0;34m\u001b[0m\u001b[0m\n\u001b[1;32m   3362\u001b[0m             \u001b[0;32mexcept\u001b[0m \u001b[0mKeyError\u001b[0m \u001b[0;32mas\u001b[0m \u001b[0merr\u001b[0m\u001b[0;34m:\u001b[0m\u001b[0;34m\u001b[0m\u001b[0;34m\u001b[0m\u001b[0m\n\u001b[0;32m-> 3363\u001b[0;31m                 \u001b[0;32mraise\u001b[0m \u001b[0mKeyError\u001b[0m\u001b[0;34m(\u001b[0m\u001b[0mkey\u001b[0m\u001b[0;34m)\u001b[0m \u001b[0;32mfrom\u001b[0m \u001b[0merr\u001b[0m\u001b[0;34m\u001b[0m\u001b[0;34m\u001b[0m\u001b[0m\n\u001b[0m\u001b[1;32m   3364\u001b[0m \u001b[0;34m\u001b[0m\u001b[0m\n\u001b[1;32m   3365\u001b[0m         \u001b[0;32mif\u001b[0m \u001b[0mis_scalar\u001b[0m\u001b[0;34m(\u001b[0m\u001b[0mkey\u001b[0m\u001b[0;34m)\u001b[0m \u001b[0;32mand\u001b[0m \u001b[0misna\u001b[0m\u001b[0;34m(\u001b[0m\u001b[0mkey\u001b[0m\u001b[0;34m)\u001b[0m \u001b[0;32mand\u001b[0m \u001b[0;32mnot\u001b[0m \u001b[0mself\u001b[0m\u001b[0;34m.\u001b[0m\u001b[0mhasnans\u001b[0m\u001b[0;34m:\u001b[0m\u001b[0;34m\u001b[0m\u001b[0;34m\u001b[0m\u001b[0m\n",
      "\u001b[0;31mKeyError\u001b[0m: 'colour'"
     ]
    }
   ],
   "source": [
    "df3['colour']"
   ]
  }
 ],
 "metadata": {
  "kernelspec": {
   "display_name": "Python 3 (ipykernel)",
   "language": "python",
   "name": "python3"
  },
  "language_info": {
   "codemirror_mode": {
    "name": "ipython",
    "version": 3
   },
   "file_extension": ".py",
   "mimetype": "text/x-python",
   "name": "python",
   "nbconvert_exporter": "python",
   "pygments_lexer": "ipython3",
   "version": "3.9.7"
  }
 },
 "nbformat": 4,
 "nbformat_minor": 5
}
