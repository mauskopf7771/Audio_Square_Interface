{
 "cells": [
  {
   "cell_type": "markdown",
   "id": "ed084b06-9394-420d-913a-75ec799914c3",
   "metadata": {},
   "source": [
    "## Analysis Script as the project was abandoned I never finished writing this code or got it to work. Perhaps one day if I get the time or if there's a need, I'll finish it."
   ]
  },
  {
   "cell_type": "code",
   "execution_count": null,
   "id": "059c10ba",
   "metadata": {},
   "outputs": [],
   "source": [
    "#Coordinate Converter\n",
    "#\n",
    "#    Imports data\n",
    "#    Classifies coordinates by colour <- This will be the easier one to do\n",
    "#    Classifies coordingates by number"
   ]
  },
  {
   "cell_type": "code",
   "execution_count": 2,
   "id": "df0e8f6f",
   "metadata": {},
   "outputs": [],
   "source": [
    "# Import Python Libraries\n",
    "import os\n",
    "import pandas as pd\n",
    "import numpy as np\n",
    "import matplotlib.pyplot as plt\n",
    "from matplotlib.ticker import ScalarFormatter\n",
    "import seaborn as sns"
   ]
  },
  {
   "cell_type": "code",
   "execution_count": null,
   "id": "13e8158d",
   "metadata": {},
   "outputs": [],
   "source": [
    "# Useful notes\n",
    "# Stimuli is placed by centre\n",
    "# Y coordinates to colour\n",
    "#     Blue = 0.25 to 0.15\n",
    "#     Red = 0.1 to 0\n",
    "#     White = -0.05 to -0.15\n",
    "#     Green = -0.2 to -0.3\n",
    "blue = {0.15, 0.25}\n",
    "red = {0, 0.1}\n",
    "white = {-0.15, -0.05}\n",
    "\n",
    "test_data = np.array([0.2, 0.17, 0.05, -0.1, 0.3])\n",
    "\n",
    "if test_data is in range(blue)"
   ]
  },
  {
   "cell_type": "code",
   "execution_count": 4,
   "id": "5d2f1cd0",
   "metadata": {},
   "outputs": [],
   "source": [
    "#Get current dir\n",
    "#os.getcwd() #Output redacted"
   ]
  },
  {
   "cell_type": "code",
   "execution_count": 6,
   "id": "bf629a9a",
   "metadata": {},
   "outputs": [],
   "source": [
    "# Import Dataset\n",
    "df = pd.read_csv('/Users/[REDACTED]/Desktop/Jack_PsychoPy/Data/[REDACTED].csv')\n",
    "display(df)"
   ]
  },
  {
   "cell_type": "code",
   "execution_count": 185,
   "id": "4706061b",
   "metadata": {},
   "outputs": [
    {
     "data": {
      "text/html": [
       "<div>\n",
       "<style scoped>\n",
       "    .dataframe tbody tr th:only-of-type {\n",
       "        vertical-align: middle;\n",
       "    }\n",
       "\n",
       "    .dataframe tbody tr th {\n",
       "        vertical-align: top;\n",
       "    }\n",
       "\n",
       "    .dataframe thead th {\n",
       "        text-align: right;\n",
       "    }\n",
       "</style>\n",
       "<table border=\"1\" class=\"dataframe\">\n",
       "  <thead>\n",
       "    <tr style=\"text-align: right;\">\n",
       "      <th></th>\n",
       "      <th>mouse.x</th>\n",
       "      <th>mouse.y</th>\n",
       "    </tr>\n",
       "  </thead>\n",
       "  <tbody>\n",
       "    <tr>\n",
       "      <th>0</th>\n",
       "      <td>0.006110</td>\n",
       "      <td>0.060081</td>\n",
       "    </tr>\n",
       "    <tr>\n",
       "      <th>1</th>\n",
       "      <td>-0.015275</td>\n",
       "      <td>0.038697</td>\n",
       "    </tr>\n",
       "    <tr>\n",
       "      <th>2</th>\n",
       "      <td>0.152749</td>\n",
       "      <td>-0.094705</td>\n",
       "    </tr>\n",
       "    <tr>\n",
       "      <th>3</th>\n",
       "      <td>0.139511</td>\n",
       "      <td>-0.211813</td>\n",
       "    </tr>\n",
       "    <tr>\n",
       "      <th>4</th>\n",
       "      <td>0.443992</td>\n",
       "      <td>-0.247454</td>\n",
       "    </tr>\n",
       "  </tbody>\n",
       "</table>\n",
       "</div>"
      ],
      "text/plain": [
       "    mouse.x   mouse.y\n",
       "0  0.006110  0.060081\n",
       "1 -0.015275  0.038697\n",
       "2  0.152749 -0.094705\n",
       "3  0.139511 -0.211813\n",
       "4  0.443992 -0.247454"
      ]
     },
     "metadata": {},
     "output_type": "display_data"
    }
   ],
   "source": [
    "#Make df with all mouse clicks\n",
    "df2 = df[['mouse.x', 'mouse.y']]\n",
    "display(df2)"
   ]
  },
  {
   "cell_type": "code",
   "execution_count": 186,
   "id": "2d7e1bda",
   "metadata": {},
   "outputs": [
    {
     "data": {
      "text/plain": [
       "<matplotlib.collections.PathCollection at 0x7f84d01edb20>"
      ]
     },
     "execution_count": 186,
     "metadata": {},
     "output_type": "execute_result"
    },
    {
     "data": {
      "image/png": "[encoded data removed]",
      "text/plain": [
       "<Figure size 432x288 with 1 Axes>"
      ]
     },
     "metadata": {
      "needs_background": "light"
     },
     "output_type": "display_data"
    }
   ],
   "source": [
    "# Plot all the mouse clicks\n",
    "plt.scatter(df2[['mouse.x']], df2[['mouse.y']])"
   ]
  },
  {
   "cell_type": "code",
   "execution_count": 187,
   "id": "afc63496",
   "metadata": {},
   "outputs": [
    {
     "name": "stdout",
     "output_type": "stream",
     "text": [
      "0    0.060081\n",
      "1    0.038697\n",
      "2   -0.094705\n",
      "3   -0.211813\n",
      "4   -0.247454\n",
      "Name: mouse.y, dtype: float64\n"
     ]
    }
   ],
   "source": [
    "df3 = df2\n",
    "test = df3['mouse.y'].replace(['blue','red', 'white', 'green'],[[0.15, 0.25],[0,0.1],[-0.05,-0.15],[-0.2,-0.3]])\n",
    "print(test)"
   ]
  },
  {
   "cell_type": "code",
   "execution_count": 8,
   "id": "4e2f1946",
   "metadata": {},
   "outputs": [],
   "source": [
    "df3['colour'] = ''\n",
    "\n",
    "for i in range (0, 4):\n",
    "    if df3['mouse.y'][i] > 0.15\n",
    "        df3['colour'] = 'blue'"
   ]
  },
  {
   "cell_type": "code",
   "execution_count": 201,
   "id": "b7cdd2d0",
   "metadata": {},
   "outputs": [
    {
     "data": {
      "text/plain": [
       "True"
      ]
     },
     "execution_count": 201,
     "metadata": {},
     "output_type": "execute_result"
    }
   ],
   "source": [
    "df3['mouse.y'][1] < 0.15"
   ]
  },
  {
   "cell_type": "code",
   "execution_count": 7,
   "id": "090de910",
   "metadata": {},
   "outputs": [],
   "source": [
    "df3['colour']"
   ]
  },
  {
   "cell_type": "code",
   "execution_count": null,
   "id": "8de19ddc-436b-4ef3-a1af-123086f9b09c",
   "metadata": {},
   "outputs": [],
   "source": []
  }
 ],
 "metadata": {
  "kernelspec": {
   "display_name": "Python 3 (ipykernel)",
   "language": "python",
   "name": "python3"
  },
  "language_info": {
   "codemirror_mode": {
    "name": "ipython",
    "version": 3
   },
   "file_extension": ".py",
   "mimetype": "text/x-python",
   "name": "python",
   "nbconvert_exporter": "python",
   "pygments_lexer": "ipython3",
   "version": "3.9.7"
  }
 },
 "nbformat": 4,
 "nbformat_minor": 5
}
